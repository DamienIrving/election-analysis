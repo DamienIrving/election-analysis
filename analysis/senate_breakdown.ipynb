{
 "cells": [
  {
   "cell_type": "code",
   "execution_count": 18,
   "metadata": {},
   "outputs": [],
   "source": [
    "import pandas as pd\n",
    "import numpy as np"
   ]
  },
  {
   "cell_type": "code",
   "execution_count": 3,
   "metadata": {},
   "outputs": [],
   "source": [
    "df = pd.read_csv('../processed_data/Senate22-Tasmania-polling-place-votes.csv')"
   ]
  },
  {
   "cell_type": "code",
   "execution_count": 29,
   "metadata": {},
   "outputs": [],
   "source": [
    "divisions = df['LegCo'].dropna().unique()\n",
    "divisions = np.sort(divisions)"
   ]
  },
  {
   "cell_type": "code",
   "execution_count": 28,
   "metadata": {},
   "outputs": [
    {
     "name": "stdout",
     "output_type": "stream",
     "text": [
      "Derwent 8.63%\n",
      "Elwick 22.54%\n",
      "Hobart 40.59%\n",
      "Huon 22.91%\n",
      "Launceston 15.82%\n",
      "McIntyre 9.46%\n",
      "Mersey 7.40%\n",
      "Montgomery 8.09%\n",
      "Murchison 7.06%\n",
      "Nelson 28.51%\n",
      "Pembroke 20.53%\n",
      "Prosser 13.20%\n",
      "Rosevears 15.05%\n",
      "Rumney 16.63%\n",
      "Windermere 9.94%\n"
     ]
    }
   ],
   "source": [
    "for div in divisions:\n",
    "    greens_votes = df[df['LegCo'] == div]['GreensVotes'].sum()\n",
    "    total_votes = df[df['LegCo'] == div]['TotalVotes'].sum()\n",
    "    greens_pct = (greens_votes / total_votes) * 100\n",
    "    print(div, f'{greens_pct:.2f}%')"
   ]
  },
  {
   "cell_type": "code",
   "execution_count": 33,
   "metadata": {},
   "outputs": [
    {
     "data": {
      "text/plain": [
       "array([\"Break O'Day\", 'Brighton', 'Burnie City', 'Central Coast',\n",
       "       'Central Highlands', 'Circular Head', 'Clarence City',\n",
       "       'Derwent Valley', 'Devonport City', 'Dorset', 'Flinders',\n",
       "       'George Town', 'Glamorgan-Spring Bay', 'Glenorchy City',\n",
       "       'Hobart City', 'Huon Valley', 'Kentish', 'King Island',\n",
       "       'Kingborough', 'Latrobe', 'Launceston City', 'Meander Valley',\n",
       "       'Northern Midlands', 'Sorell', 'Southern Midlands', 'Tasman',\n",
       "       'Waratah-Wynyard', 'West Coast', 'West Tamar'], dtype=object)"
      ]
     },
     "execution_count": 33,
     "metadata": {},
     "output_type": "execute_result"
    }
   ],
   "source": [
    "councils = df['LocalCouncil'].dropna().unique()\n",
    "councils = np.sort(councils)\n",
    "councils"
   ]
  },
  {
   "cell_type": "code",
   "execution_count": 35,
   "metadata": {},
   "outputs": [
    {
     "name": "stdout",
     "output_type": "stream",
     "text": [
      "Break O'Day 16.01%\n",
      "Brighton 7.22%\n",
      "Burnie City 7.10%\n",
      "Central Coast 8.53%\n",
      "Central Highlands 3.99%\n",
      "Circular Head 4.43%\n",
      "Clarence City 19.29%\n",
      "Derwent Valley 9.19%\n",
      "Devonport City 7.37%\n",
      "Dorset 6.29%\n",
      "Flinders 10.93%\n",
      "George Town 8.07%\n",
      "Glamorgan-Spring Bay 13.95%\n",
      "Glenorchy City 17.23%\n",
      "Hobart City 37.02%\n",
      "Huon Valley 20.59%\n",
      "Kentish 9.61%\n",
      "King Island 8.30%\n",
      "Kingborough 24.45%\n",
      "Latrobe 7.46%\n",
      "Launceston City 14.22%\n",
      "Meander Valley 10.00%\n",
      "Northern Midlands 8.45%\n",
      "Sorell 16.92%\n",
      "Southern Midlands 6.14%\n",
      "Tasman 21.59%\n",
      "Waratah-Wynyard 8.03%\n",
      "West Coast 5.07%\n",
      "West Tamar 15.00%\n"
     ]
    }
   ],
   "source": [
    "for council in councils:\n",
    "    greens_votes = df[df['LocalCouncil'] == council]['GreensVotes'].sum()\n",
    "    total_votes = df[df['LocalCouncil'] == council]['TotalVotes'].sum()\n",
    "    greens_pct = (greens_votes / total_votes) * 100\n",
    "    print(council, f'{greens_pct:.2f}%')"
   ]
  },
  {
   "cell_type": "code",
   "execution_count": null,
   "metadata": {},
   "outputs": [],
   "source": []
  }
 ],
 "metadata": {
  "kernelspec": {
   "display_name": "Python 3",
   "language": "python",
   "name": "python3"
  },
  "language_info": {
   "codemirror_mode": {
    "name": "ipython",
    "version": 3
   },
   "file_extension": ".py",
   "mimetype": "text/x-python",
   "name": "python",
   "nbconvert_exporter": "python",
   "pygments_lexer": "ipython3",
   "version": "3.7.3"
  }
 },
 "nbformat": 4,
 "nbformat_minor": 2
}
